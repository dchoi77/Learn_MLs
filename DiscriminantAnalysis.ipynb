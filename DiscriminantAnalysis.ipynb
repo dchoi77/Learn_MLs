{
 "cells": [
  {
   "cell_type": "markdown",
   "metadata": {},
   "source": [
    "Reference: Pattern recognition and Machine learning (Bishop)"
   ]
  },
  {
   "cell_type": "markdown",
   "metadata": {},
   "source": [
    "# Fisher's Linear Discriminant\n",
    "\n",
    "A __discriminant__ is a function that takes an instance and assigns it to a class label.\n",
    "\n",
    "For simplicity, consider a binary classification.\n",
    "\n",
    "* Dataset: $\\{ \\mathbf{x}_1,\\ldots, \\mathbf{x}_N \\}$\n",
    "* Classes: $C_1, C_2$,\n",
    "* Object:\n",
    "\n",
    "    1. Project the dataset to $\\mathbb{R}$ by $y = \\mathbf{w}^T\\mathbf{x}$ for some vector $\\mathbf{w}$.\n",
    "    1. Classify $y \\geq -w_0$ as class $C_1$ and otherwise class $C_2$ for some threshold $w_0$.\n",
    "    \n",
    "    \n",
    "Idea:\n",
    "\n",
    "* Try to maximize the difference of the projected class means $m_i = \\mathbf{w}^T\\mathbf{m}_i, i=1,2$, where $\\mathbf{m}_i = \\frac{1}{|C_i|}\\sum_{n\\in C_i} \\mathbf{x}_n$.\n",
    "    \n",
    "* Try to minimize the within-class variance for the whole date defined by $s_1^2 + s_2^2$, where $s_i^2 = \\sum_{n\\in C_i} (\\mathbf{w}^T\\mathbf{x}_n - m_i)^2$.\n",
    "\n",
    "\n",
    "Find $\\mathbf{w}$ maximizing the Fisher criterion $J(\\mathbf{w}) = \\displaystyle{\\frac{(m_1 - m_2)^2}{s_1^2 + s_2^2}}$.\n",
    "\n",
    "\n",
    "After finding $\\mathbf{w}$, how do we decide a threshold $y_0$? We may assume that the projected instances $y_n = \\mathbf{w}^T\\mathbf{x}_n$ follow a Gaussian distribution in each class. Then find the parameters of the Gaussian distributions and set $y_0$ as intersection of the Gaussian approximations."
   ]
  }
 ],
 "metadata": {
  "kernelspec": {
   "display_name": "Python 3",
   "language": "python",
   "name": "python3"
  },
  "language_info": {
   "codemirror_mode": {
    "name": "ipython",
    "version": 3
   },
   "file_extension": ".py",
   "mimetype": "text/x-python",
   "name": "python",
   "nbconvert_exporter": "python",
   "pygments_lexer": "ipython3",
   "version": "3.7.5"
  }
 },
 "nbformat": 4,
 "nbformat_minor": 2
}
