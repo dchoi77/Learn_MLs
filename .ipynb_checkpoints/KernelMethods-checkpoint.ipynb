{
 "cells": [
  {
   "cell_type": "markdown",
   "metadata": {},
   "source": [
    "Reference: Pattern recognition and Machine learning\n",
    "\n",
    "# Dual formulation\n",
    "\n",
    "Dataset: $(\\mathbf{x}_n, t_n)$ for $n=1,\\ldots,N$, where $\\mathbf{x}_n \\in \\mathbb{R}^D$ and $t_n\\in\\mathbb{R}$\n",
    "\n",
    "Object: Find parameters $\\mathbf{w}$ minimizing the following regularized cost function\n",
    "\n",
    "$J(\\mathbf{w}) = \\frac{1}{2}\\sum_{n=1}^N\\left(\\mathbf{w}^T\\boldsymbol{\\phi}(\\mathbf{x}_n)-t_n\\right)^2 + \\frac{\\lambda}{2} \\mathbf{w}^T\\mathbf{w}$, where $\\boldsymbol{\\phi}: \\mathbb{R}^D \\to \\mathbb{R}^M$.\n",
    "\n",
    "From $\\nabla_\\mathbf{w}J = \\mathbf{0}$, we get $\\mathbf{w} = \\Phi^T\\mathbf{a}$, where \n",
    "\n",
    "* $\\Phi$ is the $N\\times M$ design matrix whose $n$th row is $\\boldsymbol{\\phi}(\\mathbf{x}_n)^T$ and \n",
    "* $\\mathbf{a} = (a_1,\\ldots,a_N)^T$ with $a_n = -\\frac{1}{\\lambda}\\left(\\mathbf{w}^T \\boldsymbol{\\phi}(\\mathbf{x}_n) - t_n\\right)$.\n",
    "\n",
    "In terms of $\\mathbf{a}$, $J$ can be written as \n",
    "$$J(\\mathbf{a}) = \\frac{1}{2}\\mathbf{a}^T\\mathbf{K}^2\\mathbf{a} - \\mathbf{a}^T\\mathbf{K}\\mathbf{t} + \\frac{1}{2}\\mathbf{t}^T\\mathbf{t} + \\frac{\\lambda}{2} \\mathbf{a}^T\\mathbf{K}\\mathbf{a},$$\n",
    "where \n",
    "\n",
    "* $\\mathbf{t} = (t_1,\\ldots,t_N)^T$ and \n",
    "* $\\mathbf{K} = \\Phi\\Phi^T$ is an $N\\times N$ symmetric matrix with elements $K_{ij} = \\boldsymbol{\\phi}(\\mathbf{x}_i)^T\\boldsymbol{\\phi}(\\mathbf{x}_j) = k(\\mathbf{x}_i, \\mathbf{x}_j)$.\n",
    "\n",
    "\n",
    "Let $k_n(\\mathbf{x}) = k(\\mathbf{x}_n,\\mathbf{x})$ and $\\mathbf{k}(\\mathbf{x}) = (k_1(\\mathbf{x}),\\ldots,k_N(\\mathbf{x}))^T$. Note that $\\mathbf{k}(\\mathbf{x})$ is equal to $\\Phi\\boldsymbol{\\phi}(\\mathbf{x})$.\n",
    "\n",
    "\n",
    "From $\\nabla_\\mathbf{a}J = \\mathbf{0}$, we get $\\mathbf{a} = (\\mathbf{K} + \\lambda \\mathbf{I})^{-1}\\mathbf{t}$, where $\\mathbf{I}$ is the $N\\times N$ identity matrix.\n",
    "\n",
    "\n",
    "The prediction of the linear regression model at $\\mathbf{x}$ is\n",
    "\n",
    "$y(\\mathbf{x}) = \\mathbf{w}^T\\boldsymbol{\\phi}(\\mathbf{x}) = \\mathbf{a}^T\\Phi\\boldsymbol{\\phi}(\\mathbf{x}) = \\mathbf{t}^T(\\mathbf{K}+\\lambda \\mathbf{I})^{-1}\\Phi \\boldsymbol{\\phi}(\\mathbf{x}) = (\\Phi \\boldsymbol{\\phi}(\\mathbf{x}))^T (\\mathbf{K}+\\lambda\\mathbf{I})^{-1}\\mathbf{t} = \\mathbf{k}(\\mathbf{x})^T (\\mathbf{K}+\\lambda\\mathbf{I})^{-1}\\mathbf{t} = \\mathbf{k}(\\mathbf{x})^T\\mathbf{a} = \\mathbf{a}^T \\mathbf{k}(\\mathbf{x}),$\n",
    "\n",
    "which is written in terms of the kernel functions.\n"
   ]
  },
  {
   "cell_type": "markdown",
   "metadata": {},
   "source": [
    "__Remark__\n",
    "\n",
    "* The prediction $y(\\mathbf{x})$ of the model is a linear combination of the target values ($y(\\mathbf{x}) = \\mathbf{k}(\\mathbf{x})^T (\\mathbf{K}+\\lambda\\mathbf{I})^{-1}\\mathbf{t}$)\n",
    "\n",
    "* In the original parameter space, we find $\\mathbf{w}$ by using the inverse of an $M\\times M$ matrix ($\\mathbf{w} = \\left(\\Phi^T \\Phi)^{-1} \\Phi^T \\mathbf{t}\\right)$), but in the dual transformation, we find $\\mathbf{a}$ by using the inverse of an $N\\times N$ matrix ($\\mathbf{a} = (\\mathbf{K}+\\lambda \\mathbf{I})^{-1}\\mathbf{t}$).\n",
    "\n",
    "* The dual formulation does not seem to be useful, since $M \\ll N$ in many cases. However, an advantage of the dual formulation is that it is written entirely in terms of the kernel functions."
   ]
  },
  {
   "cell_type": "markdown",
   "metadata": {},
   "source": [
    "# Kernels\n",
    "\n",
    "A function $k(\\mathbf{x},\\mathbf{x}^\\prime)$ is a valid kernel function $\\iff$ $K=[k(\\mathbf{x}_i, \\mathbf{x}_j)]$ is a positive semidefinite matrix for all instances."
   ]
  }
 ],
 "metadata": {
  "kernelspec": {
   "display_name": "Python 3",
   "language": "python",
   "name": "python3"
  },
  "language_info": {
   "codemirror_mode": {
    "name": "ipython",
    "version": 3
   },
   "file_extension": ".py",
   "mimetype": "text/x-python",
   "name": "python",
   "nbconvert_exporter": "python",
   "pygments_lexer": "ipython3",
   "version": "3.7.5"
  }
 },
 "nbformat": 4,
 "nbformat_minor": 2
}
