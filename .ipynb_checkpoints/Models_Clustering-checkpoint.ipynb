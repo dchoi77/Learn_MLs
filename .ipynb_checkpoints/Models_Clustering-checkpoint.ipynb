{
 "cells": [
  {
   "cell_type": "markdown",
   "metadata": {},
   "source": [
    "# K-Means Clustering\n",
    "\n",
    "Reference: An Introduction to Statistical Learning with Applications in R\n",
    "\n",
    "## Algorithm\n",
    "\n",
    "Let $K$ be the number of clusters. We want to find a partition ${C_1,\\ldots,C_K}$ of a given dataset that minimizes $\\sum_{k=1}^{K} W(C_k)$ (called __inertia__), where $W(C_k) = \\frac {1}{|C_k|} \\sum_{i,j\\in C_k} ||x_i - x_j||^2$ is the within-cluster variation of $C_k$.\n",
    "\n",
    "A simple algorithm finding a local minimum is as follows:\n",
    "\n",
    "* Select $K$ centroids randomly (possibly from the dataset).\n",
    "\n",
    "* At each iteration, do\n",
    "\n",
    "    1. Assign each instance to the closest centroid.\n",
    "    1. Set the centroids by the mean of the instances assigned to them.\n",
    "    \n",
    "Run the algorithm multiple times and select the one minimizing the inertia.\n",
    "\n",
    "\n",
    "```\n",
    "sklearn.cluster.KMeans(n_clusters, init='k-means++', n_init, ...)\n",
    "```\n",
    "\n",
    "## Optimal number of clusters\n",
    "\n",
    "To find the optimal number of clusters, we can plot the __inertia__ or the __silhouette score__ over the number of clusters and analyze the graphs. \n",
    "\n",
    "The silhouette score of a dataset is the mean of the silhoutte coefficients of all instances in the dataset. The silhoutte coefficient of an instance $\\mathbf{x}$ which belongs to the cluster $C$ with $|C|>1$ is defined by $(b - a)/\\max\\{a,b\\}$, where $a = \\frac{1}{|C|-1}\\sum_{y\\in C} ||\\mathbf{x} - \\mathbf{y}||$ and $b = \\min_{C^\\prime \\neq C} \\frac{1}{|C^\\prime|} \\sum_{\\mathbf{y}\\in C^\\prime} ||\\mathbf{x} - \\mathbf{y}||$. If $|C|=1$, then the silhoutte score is simply 0.\n",
    "\n",
    "The silhoutte coefficient is between -1 and 1.\n",
    "    * close to 1: the instance is in a proper cluster\n",
    "    * close to 0: the instance is close to a cluster boundary\n",
    "    * close to -1: the instance should probably belong to another cluster\n",
    "\n",
    "\n"
   ]
  }
 ],
 "metadata": {
  "kernelspec": {
   "display_name": "Python 3",
   "language": "python",
   "name": "python3"
  },
  "language_info": {
   "codemirror_mode": {
    "name": "ipython",
    "version": 3
   },
   "file_extension": ".py",
   "mimetype": "text/x-python",
   "name": "python",
   "nbconvert_exporter": "python",
   "pygments_lexer": "ipython3",
   "version": "3.7.5"
  }
 },
 "nbformat": 4,
 "nbformat_minor": 2
}
